{
 "cells": [
  {
   "cell_type": "markdown",
   "metadata": {},
   "source": [
    "# Prediction and Data Post-processing\n",
    "\n",
    "This notebook combines the subimages into image of original size. It uses X_train data to do the experiment and visualize some of the image to make sure the function works properly."
   ]
  },
  {
   "cell_type": "code",
   "execution_count": 1,
   "metadata": {
    "collapsed": false
   },
   "outputs": [
    {
     "name": "stderr",
     "output_type": "stream",
     "text": [
      "//anaconda/envs/tensorflow/lib/python3.5/site-packages/h5py/__init__.py:36: FutureWarning: Conversion of the second argument of issubdtype from `float` to `np.floating` is deprecated. In future, it will be treated as `np.float64 == np.dtype(float).type`.\n",
      "  from ._conv import register_converters as _register_converters\n",
      "Using TensorFlow backend.\n"
     ]
    }
   ],
   "source": [
    "%matplotlib inline\n",
    "import matplotlib.pyplot as plt \n",
    "\n",
    "import numpy as np\n",
    "import cv2\n",
    "import glob\n",
    "from math import ceil\n",
    "\n",
    "from keras.models import Model\n",
    "from keras.layers import Input,merge, concatenate, Conv2D, MaxPooling2D, Activation, UpSampling2D,Dropout,Conv2DTranspose\n",
    "from keras.layers.normalization import BatchNormalization as bn\n",
    "from keras.callbacks import ModelCheckpoint, TensorBoard\n",
    "from keras.optimizers import RMSprop\n",
    "from keras import regularizers \n",
    "from keras import backend as K\n",
    "from keras.optimizers import Adam\n",
    "from keras.callbacks import ModelCheckpoint\n",
    "from keras.models import load_model\n"
   ]
  },
  {
   "cell_type": "code",
   "execution_count": 6,
   "metadata": {
    "collapsed": true
   },
   "outputs": [],
   "source": [
    "def load_test():\n",
    "    \"\"\"This function takes in test.npy file which is generated in preprocessing.py by Raun\n",
    "    The size of original np array is (221,100,image_size_x,image_size_y)\n",
    "    It flatten the array into size (22100,image_size_x,image_size_y)\"\"\"\n",
    "    file_num = len(glob.glob(\"../X_test_11*.npy\"))\n",
    "    train_set = []\n",
    "    for num in range(file_num):\n",
    "        x_file_name = \"../X_test_\" + str(num) + \".npy\"\n",
    "        x = np.load(x_file_name)\n",
    "        for array in x:\n",
    "            train_set.append(array)\n",
    "    return train_set"
   ]
  },
  {
   "cell_type": "code",
   "execution_count": 3,
   "metadata": {
    "collapsed": true
   },
   "outputs": [],
   "source": [
    "smooth = 1.\n",
    "def dice_coef(y_true, y_pred):\n",
    "    y_true_f = K.flatten(y_true)\n",
    "    y_pred_f = K.flatten(y_pred)\n",
    "    intersection = K.sum(y_true_f * y_pred_f)\n",
    "    return (2. * intersection + smooth) / (K.sum(y_true_f) + K.sum(y_pred_f) + smooth)\n",
    "\n",
    "\n",
    "# negative dice loss since we want the network to minimize it more\n",
    "def dice_coef_loss(y_true, y_pred):\n",
    "    return -dice_coef(y_true, y_pred)\n"
   ]
  },
  {
   "cell_type": "code",
   "execution_count": 4,
   "metadata": {
    "collapsed": true
   },
   "outputs": [],
   "source": [
    "def slice_test_image(image):\n",
    "    \"\"\"This function takes in a image with size (image_size_x,image_size_y)\n",
    "    It slices the input image into small subimages with size (128*128)\n",
    "    It also records the number of slices made and if there is overlapping.\n",
    "    if the image size is not divisible by 128, the last row/col of images overlap with the images from previous row/col\"\"\"\n",
    "    new_images = []\n",
    "    shape = image.shape\n",
    "    x = ceil(shape[0]/128.)\n",
    "    y = ceil(shape[1]/128.)\n",
    "    x_last = shape[0] % 128\n",
    "    y_last = shape[1] % 128\n",
    "    for i in range(x):\n",
    "        for j in range(y):\n",
    "            if i == x-1:\n",
    "                image_x = image[shape[0]-128:,:]\n",
    "            else:\n",
    "                image_x = image[(i)*128:(i+1)*128,:]\n",
    "            if j == y-1:\n",
    "                new_image = image_x[:,shape[1]-128:]\n",
    "            else:\n",
    "                new_image = image_x[:,(j)*128:(j+1)*128]\n",
    "            new_images.append(new_image)\n",
    "    return new_images,[x,y,x_last,y_last]"
   ]
  },
  {
   "cell_type": "code",
   "execution_count": 5,
   "metadata": {
    "collapsed": false
   },
   "outputs": [],
   "source": [
    "def preprocess(train_set):\n",
    "    \"\"\"This function create set of sliced images and masks\"\"\"\n",
    "    subimage_set = []\n",
    "    size_set = []\n",
    "    size = len(train_set)\n",
    "    for i in range(size):\n",
    "        if i % 5000 == 0:\n",
    "            print(\"finished slicing \", i, \"images\")\n",
    "        image = train_set[i]\n",
    "        images,image_shape = slice_test_image(image)\n",
    "        for i in images:\n",
    "            subimage_set.append(i)\n",
    "        size_set.append(image_shape)\n",
    "        \n",
    "    return np.array(subimage_set),size_set"
   ]
  },
  {
   "cell_type": "code",
   "execution_count": 7,
   "metadata": {
    "collapsed": false
   },
   "outputs": [],
   "source": [
    "test_set = load_test()"
   ]
  },
  {
   "cell_type": "code",
   "execution_count": 8,
   "metadata": {
    "collapsed": false
   },
   "outputs": [
    {
     "name": "stdout",
     "output_type": "stream",
     "text": [
      "finished slicing  0 images\n"
     ]
    }
   ],
   "source": [
    "x_test,image_shapes = preprocess(test_set)"
   ]
  },
  {
   "cell_type": "code",
   "execution_count": 9,
   "metadata": {
    "collapsed": false
   },
   "outputs": [],
   "source": [
    "def combine_predictions(prediction,image_shapes):\n",
    "    \"\"\"This function takes in the prediction generated by unet.\n",
    "        Input shape (num_of_subimage,image_size_x,image_size_y)\n",
    "        Output is a set of images which are combined from subimages according to the original size \"\"\"\n",
    "    image_index = 0\n",
    "    image_set = []\n",
    "    for shape in image_shapes:        \n",
    "        x,y,x_last,y_last = shape[0],shape[1],shape[2],shape[3]\n",
    "        for i in range(x):\n",
    "            image_x = prediction[image_index]\n",
    "            for j in range(y):\n",
    "                if image_index < len(prediction) and j!=0:\n",
    "                    if i == x-1 and x_last != 0:\n",
    "                        image_x = image_x[-x_last:,:] \n",
    "                        if j == y-1 and y_last != 0:\n",
    "                            image_x = np.concatenate((image_x,prediction[image_index][-x_last:,-y_last:]),axis=1)\n",
    "                        else:\n",
    "                            image_x = np.concatenate((image_x,prediction[image_index][-x_last:,:]),axis=1)\n",
    "                    elif j == y-1 and y_last != 0 and i!=x-1:\n",
    "                        image_x = np.concatenate((image_x,prediction[image_index][:,-y_last:]),axis=1)                        \n",
    "                    else:\n",
    "                        image_x = np.concatenate((image_x,prediction[image_index]),axis=1)\n",
    "                image_index += 1\n",
    "            if i == 0:\n",
    "                image = image_x\n",
    "            else:\n",
    "                image = np.concatenate((image,image_x),axis = 0)\n",
    "        image_set.append(image)\n",
    "    return np.array(image_set)"
   ]
  },
  {
   "cell_type": "code",
   "execution_count": 10,
   "metadata": {
    "collapsed": false
   },
   "outputs": [
    {
     "data": {
      "text/plain": [
       "(3600, 128, 128, 1)"
      ]
     },
     "execution_count": 10,
     "metadata": {},
     "output_type": "execute_result"
    }
   ],
   "source": [
    "x_test=x_test/255.0\n",
    "x_test=x_test.reshape(x_test.shape+(1,))\n",
    "x_test.shape"
   ]
  },
  {
   "cell_type": "code",
   "execution_count": 11,
   "metadata": {
    "collapsed": false,
    "scrolled": true
   },
   "outputs": [],
   "source": [
    "model = load_model(\"../model/basic_unet_dsp_p4_round2.h5\", custom_objects={'dice_coef_loss': dice_coef_loss,'dice_coef':dice_coef})"
   ]
  },
  {
   "cell_type": "code",
   "execution_count": 14,
   "metadata": {
    "collapsed": false
   },
   "outputs": [
    {
     "data": {
      "text/plain": [
       "(3600, 128, 128, 1)"
      ]
     },
     "execution_count": 14,
     "metadata": {},
     "output_type": "execute_result"
    }
   ],
   "source": [
    "x_test.shape"
   ]
  },
  {
   "cell_type": "code",
   "execution_count": 16,
   "metadata": {
    "collapsed": false
   },
   "outputs": [],
   "source": [
    "prediction = model.predict(x_test[:100],batch_size=4)"
   ]
  },
  {
   "cell_type": "code",
   "execution_count": 24,
   "metadata": {
    "collapsed": false
   },
   "outputs": [
    {
     "name": "stdout",
     "output_type": "stream",
     "text": [
      "1638400 21\n"
     ]
    }
   ],
   "source": [
    "count = 0\n",
    "threshold_count = 0 \n",
    "for i in prediction.flatten():\n",
    "    count += 1\n",
    "    if i > 0.01:\n",
    "        threshold_count += 1\n",
    "print(count,threshold_count)"
   ]
  },
  {
   "cell_type": "code",
   "execution_count": 12,
   "metadata": {
    "collapsed": true
   },
   "outputs": [],
   "source": [
    "np.save()"
   ]
  },
  {
   "cell_type": "code",
   "execution_count": 23,
   "metadata": {
    "collapsed": false
   },
   "outputs": [],
   "source": [
    "prediction = prediction.reshape((-1,128,128))"
   ]
  },
  {
   "cell_type": "code",
   "execution_count": null,
   "metadata": {
    "collapsed": true
   },
   "outputs": [],
   "source": [
    "out = combine_predictions(prediction,image_shapes)"
   ]
  },
  {
   "cell_type": "code",
   "execution_count": null,
   "metadata": {
    "collapsed": false
   },
   "outputs": [],
   "source": [
    "plt.imshow(out[0],\"gray\")"
   ]
  },
  {
   "cell_type": "code",
   "execution_count": null,
   "metadata": {
    "collapsed": false
   },
   "outputs": [],
   "source": [
    "out.shape"
   ]
  },
  {
   "cell_type": "code",
   "execution_count": null,
   "metadata": {
    "collapsed": false
   },
   "outputs": [],
   "source": [
    "plt.imshow(test_set[0],\"gray\")"
   ]
  },
  {
   "cell_type": "code",
   "execution_count": null,
   "metadata": {
    "collapsed": true
   },
   "outputs": [],
   "source": []
  }
 ],
 "metadata": {
  "anaconda-cloud": {},
  "kernelspec": {
   "display_name": "Python [tensorflow]",
   "language": "python",
   "name": "Python [tensorflow]"
  },
  "language_info": {
   "codemirror_mode": {
    "name": "ipython",
    "version": 3
   },
   "file_extension": ".py",
   "mimetype": "text/x-python",
   "name": "python",
   "nbconvert_exporter": "python",
   "pygments_lexer": "ipython3",
   "version": "3.5.2"
  }
 },
 "nbformat": 4,
 "nbformat_minor": 0
}
